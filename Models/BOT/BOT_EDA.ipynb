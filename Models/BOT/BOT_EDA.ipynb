{
  "nbformat": 4,
  "nbformat_minor": 0,
  "metadata": {
    "colab": {
      "provenance": [],
      "authorship_tag": "ABX9TyMJ+O6ajMlalfy5CERXmWl7",
      "include_colab_link": true
    },
    "kernelspec": {
      "name": "python3",
      "display_name": "Python 3"
    },
    "language_info": {
      "name": "python"
    }
  },
  "cells": [
    {
      "cell_type": "markdown",
      "metadata": {
        "id": "view-in-github",
        "colab_type": "text"
      },
      "source": [
        "<a href=\"https://colab.research.google.com/github/dhanu902/FoodieChat-Bot/blob/main/BOT_EDA.ipynb\" target=\"_parent\"><img src=\"https://colab.research.google.com/assets/colab-badge.svg\" alt=\"Open In Colab\"/></a>"
      ]
    },
    {
      "cell_type": "markdown",
      "source": [
        "##### Mount Drive"
      ],
      "metadata": {
        "id": "u-kujkmUruMN"
      }
    },
    {
      "cell_type": "code",
      "source": [
        "from google.colab import drive\n",
        "drive.mount('/content/drive')"
      ],
      "metadata": {
        "colab": {
          "base_uri": "https://localhost:8080/"
        },
        "id": "iQ_07QAPRj9G",
        "outputId": "2a36f936-b3d2-42de-b971-cbfa6715ac10"
      },
      "execution_count": 2,
      "outputs": [
        {
          "output_type": "stream",
          "name": "stdout",
          "text": [
            "Mounted at /content/drive\n"
          ]
        }
      ]
    },
    {
      "cell_type": "markdown",
      "source": [
        "##### List content"
      ],
      "metadata": {
        "id": "BgRIB-oNr1YR"
      }
    },
    {
      "cell_type": "code",
      "source": [
        "!ls /content/drive/MyDrive/ChatBot/MultiWOZ_2.2/train"
      ],
      "metadata": {
        "colab": {
          "base_uri": "https://localhost:8080/"
        },
        "id": "Quvi5FKxSPoK",
        "outputId": "43c8fd8d-eb4f-43b4-beed-782db0496c9e"
      },
      "execution_count": 3,
      "outputs": [
        {
          "output_type": "stream",
          "name": "stdout",
          "text": [
            "dialogues_001.json  dialogues_006.json\tdialogues_011.json  dialogues_016.json\n",
            "dialogues_002.json  dialogues_007.json\tdialogues_012.json  dialogues_017.json\n",
            "dialogues_003.json  dialogues_008.json\tdialogues_013.json\n",
            "dialogues_004.json  dialogues_009.json\tdialogues_014.json\n",
            "dialogues_005.json  dialogues_010.json\tdialogues_015.json\n"
          ]
        }
      ]
    },
    {
      "cell_type": "markdown",
      "source": [
        "##### Combine all train data into one File"
      ],
      "metadata": {
        "id": "Wzqt2Hebr6Ou"
      }
    },
    {
      "cell_type": "code",
      "source": [
        "train_path = '/content/drive/MyDrive/ChatBot/MultiWOZ_2.2/train'"
      ],
      "metadata": {
        "id": "1PqvIoP0Sx-8"
      },
      "execution_count": 4,
      "outputs": []
    },
    {
      "cell_type": "code",
      "source": [
        "import json\n",
        "import os\n",
        "\n",
        "train_data = {}\n",
        "\n",
        "for filename in sorted(os.listdir(train_path)):\n",
        "  if filename.endswith('.json'):\n",
        "    with open(os.path.join(train_path, filename), 'r') as f:\n",
        "      dialogues = json.load(f)\n",
        "      for dialogue in dialogues:\n",
        "        train_data[dialogue['dialogue_id']] = dialogue\n",
        "\n",
        "print(f\"Total dialogues loaded: {len(train_data)}\")"
      ],
      "metadata": {
        "colab": {
          "base_uri": "https://localhost:8080/"
        },
        "id": "3vuXbYFiRU5S",
        "outputId": "9f3da8a9-0491-4fab-a191-12bf85dae2ed"
      },
      "execution_count": 5,
      "outputs": [
        {
          "output_type": "stream",
          "name": "stdout",
          "text": [
            "Total dialogues loaded: 8437\n"
          ]
        }
      ]
    },
    {
      "cell_type": "markdown",
      "source": [
        "#***EDA***"
      ],
      "metadata": {
        "id": "SErvY7kkszUg"
      }
    },
    {
      "cell_type": "code",
      "source": [
        "import pandas as pd\n",
        "import matplotlib.pyplot as plt\n",
        "import seaborn as sns"
      ],
      "metadata": {
        "id": "TyAaRKJUrkHO"
      },
      "execution_count": 6,
      "outputs": []
    },
    {
      "cell_type": "markdown",
      "source": [
        "#### Total no.of Dialogues"
      ],
      "metadata": {
        "id": "CVCx-pVuu9b2"
      }
    },
    {
      "cell_type": "code",
      "source": [
        "print(f\"Total Dialogues: {len(train_data)}\")"
      ],
      "metadata": {
        "colab": {
          "base_uri": "https://localhost:8080/"
        },
        "id": "Ky2TgTv_sycv",
        "outputId": "555c6a71-c35c-49cf-e6e5-7b21eec6126d"
      },
      "execution_count": 7,
      "outputs": [
        {
          "output_type": "stream",
          "name": "stdout",
          "text": [
            "Total Dialogues: 8437\n"
          ]
        }
      ]
    },
    {
      "cell_type": "markdown",
      "source": [
        "#### Structure of single dialogue"
      ],
      "metadata": {
        "id": "8ccdMtoIvCEl"
      }
    },
    {
      "cell_type": "code",
      "source": [
        "sample_key = list(train_data.keys())[0]\n",
        "sample_dialogue = train_data[sample_key]\n",
        "print(json.dumps(sample_dialogue, indent=2))"
      ],
      "metadata": {
        "colab": {
          "base_uri": "https://localhost:8080/"
        },
        "collapsed": true,
        "id": "JvvTITm0tDD7",
        "outputId": "fdb4ba9d-be89-4771-f5f5-579c2b9e697d"
      },
      "execution_count": 8,
      "outputs": [
        {
          "output_type": "stream",
          "name": "stdout",
          "text": [
            "{\n",
            "  \"dialogue_id\": \"PMUL4398.json\",\n",
            "  \"services\": [\n",
            "    \"restaurant\",\n",
            "    \"hotel\"\n",
            "  ],\n",
            "  \"turns\": [\n",
            "    {\n",
            "      \"frames\": [\n",
            "        {\n",
            "          \"actions\": [],\n",
            "          \"service\": \"restaurant\",\n",
            "          \"slots\": [],\n",
            "          \"state\": {\n",
            "            \"active_intent\": \"find_restaurant\",\n",
            "            \"requested_slots\": [],\n",
            "            \"slot_values\": {\n",
            "              \"restaurant-area\": [\n",
            "                \"centre\"\n",
            "              ],\n",
            "              \"restaurant-pricerange\": [\n",
            "                \"expensive\"\n",
            "              ]\n",
            "            }\n",
            "          }\n",
            "        },\n",
            "        {\n",
            "          \"actions\": [],\n",
            "          \"service\": \"taxi\",\n",
            "          \"slots\": [],\n",
            "          \"state\": {\n",
            "            \"active_intent\": \"NONE\",\n",
            "            \"requested_slots\": [],\n",
            "            \"slot_values\": {}\n",
            "          }\n",
            "        },\n",
            "        {\n",
            "          \"actions\": [],\n",
            "          \"service\": \"train\",\n",
            "          \"slots\": [],\n",
            "          \"state\": {\n",
            "            \"active_intent\": \"NONE\",\n",
            "            \"requested_slots\": [],\n",
            "            \"slot_values\": {}\n",
            "          }\n",
            "        },\n",
            "        {\n",
            "          \"actions\": [],\n",
            "          \"service\": \"bus\",\n",
            "          \"slots\": [],\n",
            "          \"state\": {\n",
            "            \"active_intent\": \"NONE\",\n",
            "            \"requested_slots\": [],\n",
            "            \"slot_values\": {}\n",
            "          }\n",
            "        },\n",
            "        {\n",
            "          \"actions\": [],\n",
            "          \"service\": \"police\",\n",
            "          \"slots\": [],\n",
            "          \"state\": {\n",
            "            \"active_intent\": \"NONE\",\n",
            "            \"requested_slots\": [],\n",
            "            \"slot_values\": {}\n",
            "          }\n",
            "        },\n",
            "        {\n",
            "          \"actions\": [],\n",
            "          \"service\": \"hotel\",\n",
            "          \"slots\": [],\n",
            "          \"state\": {\n",
            "            \"active_intent\": \"find_hotel\",\n",
            "            \"requested_slots\": [],\n",
            "            \"slot_values\": {}\n",
            "          }\n",
            "        },\n",
            "        {\n",
            "          \"actions\": [],\n",
            "          \"service\": \"attraction\",\n",
            "          \"slots\": [],\n",
            "          \"state\": {\n",
            "            \"active_intent\": \"NONE\",\n",
            "            \"requested_slots\": [],\n",
            "            \"slot_values\": {}\n",
            "          }\n",
            "        },\n",
            "        {\n",
            "          \"actions\": [],\n",
            "          \"service\": \"hospital\",\n",
            "          \"slots\": [],\n",
            "          \"state\": {\n",
            "            \"active_intent\": \"NONE\",\n",
            "            \"requested_slots\": [],\n",
            "            \"slot_values\": {}\n",
            "          }\n",
            "        }\n",
            "      ],\n",
            "      \"speaker\": \"USER\",\n",
            "      \"turn_id\": \"0\",\n",
            "      \"utterance\": \"i need a place to dine in the center thats expensive\"\n",
            "    },\n",
            "    {\n",
            "      \"frames\": [],\n",
            "      \"speaker\": \"SYSTEM\",\n",
            "      \"turn_id\": \"1\",\n",
            "      \"utterance\": \"I have several options for you; do you prefer African, Asian, or British food?\"\n",
            "    },\n",
            "    {\n",
            "      \"frames\": [\n",
            "        {\n",
            "          \"actions\": [],\n",
            "          \"service\": \"restaurant\",\n",
            "          \"slots\": [],\n",
            "          \"state\": {\n",
            "            \"active_intent\": \"find_restaurant\",\n",
            "            \"requested_slots\": [\n",
            "              \"restaurant-food\"\n",
            "            ],\n",
            "            \"slot_values\": {\n",
            "              \"restaurant-area\": [\n",
            "                \"centre\"\n",
            "              ],\n",
            "              \"restaurant-pricerange\": [\n",
            "                \"expensive\"\n",
            "              ]\n",
            "            }\n",
            "          }\n",
            "        },\n",
            "        {\n",
            "          \"actions\": [],\n",
            "          \"service\": \"taxi\",\n",
            "          \"slots\": [],\n",
            "          \"state\": {\n",
            "            \"active_intent\": \"NONE\",\n",
            "            \"requested_slots\": [],\n",
            "            \"slot_values\": {}\n",
            "          }\n",
            "        },\n",
            "        {\n",
            "          \"actions\": [],\n",
            "          \"service\": \"train\",\n",
            "          \"slots\": [],\n",
            "          \"state\": {\n",
            "            \"active_intent\": \"NONE\",\n",
            "            \"requested_slots\": [],\n",
            "            \"slot_values\": {}\n",
            "          }\n",
            "        },\n",
            "        {\n",
            "          \"actions\": [],\n",
            "          \"service\": \"bus\",\n",
            "          \"slots\": [],\n",
            "          \"state\": {\n",
            "            \"active_intent\": \"NONE\",\n",
            "            \"requested_slots\": [],\n",
            "            \"slot_values\": {}\n",
            "          }\n",
            "        },\n",
            "        {\n",
            "          \"actions\": [],\n",
            "          \"service\": \"police\",\n",
            "          \"slots\": [],\n",
            "          \"state\": {\n",
            "            \"active_intent\": \"NONE\",\n",
            "            \"requested_slots\": [],\n",
            "            \"slot_values\": {}\n",
            "          }\n",
            "        },\n",
            "        {\n",
            "          \"actions\": [],\n",
            "          \"service\": \"hotel\",\n",
            "          \"slots\": [],\n",
            "          \"state\": {\n",
            "            \"active_intent\": \"find_hotel\",\n",
            "            \"requested_slots\": [],\n",
            "            \"slot_values\": {}\n",
            "          }\n",
            "        },\n",
            "        {\n",
            "          \"actions\": [],\n",
            "          \"service\": \"attraction\",\n",
            "          \"slots\": [],\n",
            "          \"state\": {\n",
            "            \"active_intent\": \"NONE\",\n",
            "            \"requested_slots\": [],\n",
            "            \"slot_values\": {}\n",
            "          }\n",
            "        },\n",
            "        {\n",
            "          \"actions\": [],\n",
            "          \"service\": \"hospital\",\n",
            "          \"slots\": [],\n",
            "          \"state\": {\n",
            "            \"active_intent\": \"NONE\",\n",
            "            \"requested_slots\": [],\n",
            "            \"slot_values\": {}\n",
            "          }\n",
            "        }\n",
            "      ],\n",
            "      \"speaker\": \"USER\",\n",
            "      \"turn_id\": \"2\",\n",
            "      \"utterance\": \"Any sort of food would be fine, as long as it is a bit expensive. Could I get the phone number for your recommendation?\"\n",
            "    },\n",
            "    {\n",
            "      \"frames\": [\n",
            "        {\n",
            "          \"actions\": [],\n",
            "          \"service\": \"restaurant\",\n",
            "          \"slots\": [\n",
            "            {\n",
            "              \"exclusive_end\": 38,\n",
            "              \"slot\": \"restaurant-name\",\n",
            "              \"start\": 31,\n",
            "              \"value\": \"Bedouin\"\n",
            "            }\n",
            "          ]\n",
            "        }\n",
            "      ],\n",
            "      \"speaker\": \"SYSTEM\",\n",
            "      \"turn_id\": \"3\",\n",
            "      \"utterance\": \"There is an Afrian place named Bedouin in the centre. How does that sound?\"\n",
            "    },\n",
            "    {\n",
            "      \"frames\": [\n",
            "        {\n",
            "          \"actions\": [],\n",
            "          \"service\": \"restaurant\",\n",
            "          \"slots\": [],\n",
            "          \"state\": {\n",
            "            \"active_intent\": \"find_restaurant\",\n",
            "            \"requested_slots\": [\n",
            "              \"restaurant-phone\"\n",
            "            ],\n",
            "            \"slot_values\": {\n",
            "              \"restaurant-area\": [\n",
            "                \"centre\"\n",
            "              ],\n",
            "              \"restaurant-name\": [\n",
            "                \"bedouin\"\n",
            "              ],\n",
            "              \"restaurant-pricerange\": [\n",
            "                \"expensive\"\n",
            "              ]\n",
            "            }\n",
            "          }\n",
            "        },\n",
            "        {\n",
            "          \"actions\": [],\n",
            "          \"service\": \"hotel\",\n",
            "          \"slots\": [],\n",
            "          \"state\": {\n",
            "            \"active_intent\": \"find_hotel\",\n",
            "            \"requested_slots\": [],\n",
            "            \"slot_values\": {\n",
            "              \"hotel-pricerange\": [\n",
            "                \"expensive\"\n",
            "              ],\n",
            "              \"hotel-type\": [\n",
            "                \"hotel\"\n",
            "              ]\n",
            "            }\n",
            "          }\n",
            "        },\n",
            "        {\n",
            "          \"actions\": [],\n",
            "          \"service\": \"taxi\",\n",
            "          \"slots\": [],\n",
            "          \"state\": {\n",
            "            \"active_intent\": \"NONE\",\n",
            "            \"requested_slots\": [],\n",
            "            \"slot_values\": {}\n",
            "          }\n",
            "        },\n",
            "        {\n",
            "          \"actions\": [],\n",
            "          \"service\": \"train\",\n",
            "          \"slots\": [],\n",
            "          \"state\": {\n",
            "            \"active_intent\": \"NONE\",\n",
            "            \"requested_slots\": [],\n",
            "            \"slot_values\": {}\n",
            "          }\n",
            "        },\n",
            "        {\n",
            "          \"actions\": [],\n",
            "          \"service\": \"bus\",\n",
            "          \"slots\": [],\n",
            "          \"state\": {\n",
            "            \"active_intent\": \"NONE\",\n",
            "            \"requested_slots\": [],\n",
            "            \"slot_values\": {}\n",
            "          }\n",
            "        },\n",
            "        {\n",
            "          \"actions\": [],\n",
            "          \"service\": \"police\",\n",
            "          \"slots\": [],\n",
            "          \"state\": {\n",
            "            \"active_intent\": \"NONE\",\n",
            "            \"requested_slots\": [],\n",
            "            \"slot_values\": {}\n",
            "          }\n",
            "        },\n",
            "        {\n",
            "          \"actions\": [],\n",
            "          \"service\": \"attraction\",\n",
            "          \"slots\": [],\n",
            "          \"state\": {\n",
            "            \"active_intent\": \"NONE\",\n",
            "            \"requested_slots\": [],\n",
            "            \"slot_values\": {}\n",
            "          }\n",
            "        },\n",
            "        {\n",
            "          \"actions\": [],\n",
            "          \"service\": \"hospital\",\n",
            "          \"slots\": [],\n",
            "          \"state\": {\n",
            "            \"active_intent\": \"NONE\",\n",
            "            \"requested_slots\": [],\n",
            "            \"slot_values\": {}\n",
            "          }\n",
            "        }\n",
            "      ],\n",
            "      \"speaker\": \"USER\",\n",
            "      \"turn_id\": \"4\",\n",
            "      \"utterance\": \"Sounds good, could I get that phone number? Also, could you recommend me an expensive hotel?\"\n",
            "    },\n",
            "    {\n",
            "      \"frames\": [\n",
            "        {\n",
            "          \"actions\": [],\n",
            "          \"service\": \"hotel\",\n",
            "          \"slots\": [\n",
            "            {\n",
            "              \"exclusive_end\": 90,\n",
            "              \"slot\": \"hotel-name\",\n",
            "              \"start\": 69,\n",
            "              \"value\": \"University Arms Hotel\"\n",
            "            }\n",
            "          ]\n",
            "        }\n",
            "      ],\n",
            "      \"speaker\": \"SYSTEM\",\n",
            "      \"turn_id\": \"5\",\n",
            "      \"utterance\": \"Bedouin's phone is 01223367660. As far as hotels go, I recommend the University Arms Hotel in the center of town.\"\n",
            "    },\n",
            "    {\n",
            "      \"frames\": [\n",
            "        {\n",
            "          \"actions\": [],\n",
            "          \"service\": \"restaurant\",\n",
            "          \"slots\": [],\n",
            "          \"state\": {\n",
            "            \"active_intent\": \"NONE\",\n",
            "            \"requested_slots\": [],\n",
            "            \"slot_values\": {\n",
            "              \"restaurant-area\": [\n",
            "                \"centre\"\n",
            "              ],\n",
            "              \"restaurant-name\": [\n",
            "                \"bedouin\"\n",
            "              ],\n",
            "              \"restaurant-pricerange\": [\n",
            "                \"expensive\"\n",
            "              ]\n",
            "            }\n",
            "          }\n",
            "        },\n",
            "        {\n",
            "          \"actions\": [],\n",
            "          \"service\": \"hotel\",\n",
            "          \"slots\": [],\n",
            "          \"state\": {\n",
            "            \"active_intent\": \"find_hotel\",\n",
            "            \"requested_slots\": [],\n",
            "            \"slot_values\": {\n",
            "              \"hotel-name\": [\n",
            "                \"university arms hotel\"\n",
            "              ],\n",
            "              \"hotel-pricerange\": [\n",
            "                \"expensive\"\n",
            "              ],\n",
            "              \"hotel-type\": [\n",
            "                \"hotel\"\n",
            "              ]\n",
            "            }\n",
            "          }\n",
            "        },\n",
            "        {\n",
            "          \"actions\": [],\n",
            "          \"service\": \"taxi\",\n",
            "          \"slots\": [],\n",
            "          \"state\": {\n",
            "            \"active_intent\": \"NONE\",\n",
            "            \"requested_slots\": [],\n",
            "            \"slot_values\": {}\n",
            "          }\n",
            "        },\n",
            "        {\n",
            "          \"actions\": [],\n",
            "          \"service\": \"train\",\n",
            "          \"slots\": [],\n",
            "          \"state\": {\n",
            "            \"active_intent\": \"NONE\",\n",
            "            \"requested_slots\": [],\n",
            "            \"slot_values\": {}\n",
            "          }\n",
            "        },\n",
            "        {\n",
            "          \"actions\": [],\n",
            "          \"service\": \"bus\",\n",
            "          \"slots\": [],\n",
            "          \"state\": {\n",
            "            \"active_intent\": \"NONE\",\n",
            "            \"requested_slots\": [],\n",
            "            \"slot_values\": {}\n",
            "          }\n",
            "        },\n",
            "        {\n",
            "          \"actions\": [],\n",
            "          \"service\": \"police\",\n",
            "          \"slots\": [],\n",
            "          \"state\": {\n",
            "            \"active_intent\": \"NONE\",\n",
            "            \"requested_slots\": [],\n",
            "            \"slot_values\": {}\n",
            "          }\n",
            "        },\n",
            "        {\n",
            "          \"actions\": [],\n",
            "          \"service\": \"attraction\",\n",
            "          \"slots\": [],\n",
            "          \"state\": {\n",
            "            \"active_intent\": \"NONE\",\n",
            "            \"requested_slots\": [],\n",
            "            \"slot_values\": {}\n",
            "          }\n",
            "        },\n",
            "        {\n",
            "          \"actions\": [],\n",
            "          \"service\": \"hospital\",\n",
            "          \"slots\": [],\n",
            "          \"state\": {\n",
            "            \"active_intent\": \"NONE\",\n",
            "            \"requested_slots\": [],\n",
            "            \"slot_values\": {}\n",
            "          }\n",
            "        }\n",
            "      ],\n",
            "      \"speaker\": \"USER\",\n",
            "      \"turn_id\": \"6\",\n",
            "      \"utterance\": \"Yes. Can you book it for me?\"\n",
            "    },\n",
            "    {\n",
            "      \"frames\": [],\n",
            "      \"speaker\": \"SYSTEM\",\n",
            "      \"turn_id\": \"7\",\n",
            "      \"utterance\": \"Sure, when would you like that reservation?\"\n",
            "    },\n",
            "    {\n",
            "      \"frames\": [\n",
            "        {\n",
            "          \"actions\": [],\n",
            "          \"service\": \"restaurant\",\n",
            "          \"slots\": [],\n",
            "          \"state\": {\n",
            "            \"active_intent\": \"NONE\",\n",
            "            \"requested_slots\": [],\n",
            "            \"slot_values\": {\n",
            "              \"restaurant-area\": [\n",
            "                \"centre\"\n",
            "              ],\n",
            "              \"restaurant-name\": [\n",
            "                \"bedouin\"\n",
            "              ],\n",
            "              \"restaurant-pricerange\": [\n",
            "                \"expensive\"\n",
            "              ]\n",
            "            }\n",
            "          }\n",
            "        },\n",
            "        {\n",
            "          \"actions\": [],\n",
            "          \"service\": \"hotel\",\n",
            "          \"slots\": [],\n",
            "          \"state\": {\n",
            "            \"active_intent\": \"book_hotel\",\n",
            "            \"requested_slots\": [],\n",
            "            \"slot_values\": {\n",
            "              \"hotel-bookday\": [\n",
            "                \"saturday\"\n",
            "              ],\n",
            "              \"hotel-bookpeople\": [\n",
            "                \"2\"\n",
            "              ],\n",
            "              \"hotel-bookstay\": [\n",
            "                \"2\"\n",
            "              ],\n",
            "              \"hotel-name\": [\n",
            "                \"university arms hotel\"\n",
            "              ],\n",
            "              \"hotel-pricerange\": [\n",
            "                \"expensive\"\n",
            "              ],\n",
            "              \"hotel-type\": [\n",
            "                \"hotel\"\n",
            "              ]\n",
            "            }\n",
            "          }\n",
            "        },\n",
            "        {\n",
            "          \"actions\": [],\n",
            "          \"service\": \"taxi\",\n",
            "          \"slots\": [],\n",
            "          \"state\": {\n",
            "            \"active_intent\": \"NONE\",\n",
            "            \"requested_slots\": [],\n",
            "            \"slot_values\": {}\n",
            "          }\n",
            "        },\n",
            "        {\n",
            "          \"actions\": [],\n",
            "          \"service\": \"train\",\n",
            "          \"slots\": [],\n",
            "          \"state\": {\n",
            "            \"active_intent\": \"NONE\",\n",
            "            \"requested_slots\": [],\n",
            "            \"slot_values\": {}\n",
            "          }\n",
            "        },\n",
            "        {\n",
            "          \"actions\": [],\n",
            "          \"service\": \"bus\",\n",
            "          \"slots\": [],\n",
            "          \"state\": {\n",
            "            \"active_intent\": \"NONE\",\n",
            "            \"requested_slots\": [],\n",
            "            \"slot_values\": {}\n",
            "          }\n",
            "        },\n",
            "        {\n",
            "          \"actions\": [],\n",
            "          \"service\": \"police\",\n",
            "          \"slots\": [],\n",
            "          \"state\": {\n",
            "            \"active_intent\": \"NONE\",\n",
            "            \"requested_slots\": [],\n",
            "            \"slot_values\": {}\n",
            "          }\n",
            "        },\n",
            "        {\n",
            "          \"actions\": [],\n",
            "          \"service\": \"attraction\",\n",
            "          \"slots\": [],\n",
            "          \"state\": {\n",
            "            \"active_intent\": \"NONE\",\n",
            "            \"requested_slots\": [],\n",
            "            \"slot_values\": {}\n",
            "          }\n",
            "        },\n",
            "        {\n",
            "          \"actions\": [],\n",
            "          \"service\": \"hospital\",\n",
            "          \"slots\": [],\n",
            "          \"state\": {\n",
            "            \"active_intent\": \"NONE\",\n",
            "            \"requested_slots\": [],\n",
            "            \"slot_values\": {}\n",
            "          }\n",
            "        }\n",
            "      ],\n",
            "      \"speaker\": \"USER\",\n",
            "      \"turn_id\": \"8\",\n",
            "      \"utterance\": \"i want to book it for 2 people and 2 nights starting from saturday.\"\n",
            "    },\n",
            "    {\n",
            "      \"frames\": [],\n",
            "      \"speaker\": \"SYSTEM\",\n",
            "      \"turn_id\": \"9\",\n",
            "      \"utterance\": \"Your booking was successful. Your reference number is FRGZWQL2 . May I help you further?\"\n",
            "    },\n",
            "    {\n",
            "      \"frames\": [\n",
            "        {\n",
            "          \"actions\": [],\n",
            "          \"service\": \"restaurant\",\n",
            "          \"slots\": [],\n",
            "          \"state\": {\n",
            "            \"active_intent\": \"NONE\",\n",
            "            \"requested_slots\": [],\n",
            "            \"slot_values\": {\n",
            "              \"restaurant-area\": [\n",
            "                \"centre\"\n",
            "              ],\n",
            "              \"restaurant-name\": [\n",
            "                \"bedouin\"\n",
            "              ],\n",
            "              \"restaurant-pricerange\": [\n",
            "                \"expensive\"\n",
            "              ]\n",
            "            }\n",
            "          }\n",
            "        },\n",
            "        {\n",
            "          \"actions\": [],\n",
            "          \"service\": \"hotel\",\n",
            "          \"slots\": [],\n",
            "          \"state\": {\n",
            "            \"active_intent\": \"NONE\",\n",
            "            \"requested_slots\": [],\n",
            "            \"slot_values\": {\n",
            "              \"hotel-bookday\": [\n",
            "                \"saturday\"\n",
            "              ],\n",
            "              \"hotel-bookpeople\": [\n",
            "                \"2\"\n",
            "              ],\n",
            "              \"hotel-bookstay\": [\n",
            "                \"2\"\n",
            "              ],\n",
            "              \"hotel-name\": [\n",
            "                \"university arms hotel\"\n",
            "              ],\n",
            "              \"hotel-pricerange\": [\n",
            "                \"expensive\"\n",
            "              ],\n",
            "              \"hotel-type\": [\n",
            "                \"hotel\"\n",
            "              ]\n",
            "            }\n",
            "          }\n",
            "        },\n",
            "        {\n",
            "          \"actions\": [],\n",
            "          \"service\": \"taxi\",\n",
            "          \"slots\": [],\n",
            "          \"state\": {\n",
            "            \"active_intent\": \"NONE\",\n",
            "            \"requested_slots\": [],\n",
            "            \"slot_values\": {}\n",
            "          }\n",
            "        },\n",
            "        {\n",
            "          \"actions\": [],\n",
            "          \"service\": \"train\",\n",
            "          \"slots\": [],\n",
            "          \"state\": {\n",
            "            \"active_intent\": \"NONE\",\n",
            "            \"requested_slots\": [],\n",
            "            \"slot_values\": {}\n",
            "          }\n",
            "        },\n",
            "        {\n",
            "          \"actions\": [],\n",
            "          \"service\": \"bus\",\n",
            "          \"slots\": [],\n",
            "          \"state\": {\n",
            "            \"active_intent\": \"NONE\",\n",
            "            \"requested_slots\": [],\n",
            "            \"slot_values\": {}\n",
            "          }\n",
            "        },\n",
            "        {\n",
            "          \"actions\": [],\n",
            "          \"service\": \"police\",\n",
            "          \"slots\": [],\n",
            "          \"state\": {\n",
            "            \"active_intent\": \"NONE\",\n",
            "            \"requested_slots\": [],\n",
            "            \"slot_values\": {}\n",
            "          }\n",
            "        },\n",
            "        {\n",
            "          \"actions\": [],\n",
            "          \"service\": \"attraction\",\n",
            "          \"slots\": [],\n",
            "          \"state\": {\n",
            "            \"active_intent\": \"NONE\",\n",
            "            \"requested_slots\": [],\n",
            "            \"slot_values\": {}\n",
            "          }\n",
            "        },\n",
            "        {\n",
            "          \"actions\": [],\n",
            "          \"service\": \"hospital\",\n",
            "          \"slots\": [],\n",
            "          \"state\": {\n",
            "            \"active_intent\": \"NONE\",\n",
            "            \"requested_slots\": [],\n",
            "            \"slot_values\": {}\n",
            "          }\n",
            "        }\n",
            "      ],\n",
            "      \"speaker\": \"USER\",\n",
            "      \"turn_id\": \"10\",\n",
            "      \"utterance\": \"That is all I need to know. Thanks, good bye.\"\n",
            "    },\n",
            "    {\n",
            "      \"frames\": [],\n",
            "      \"speaker\": \"SYSTEM\",\n",
            "      \"turn_id\": \"11\",\n",
            "      \"utterance\": \"Thank you so much for Cambridge TownInfo centre. Have a great day!\"\n",
            "    }\n",
            "  ]\n",
            "}\n"
          ]
        }
      ]
    },
    {
      "cell_type": "markdown",
      "source": [
        "---\n",
        "\n",
        " ✅ What This Dialogue Contains:\n",
        "\n",
        "| **Key**       | **Value**                                |\n",
        "| ------------- | ---------------------------------------- |\n",
        "| `dialogue_id` | `PMUL4398.json`                          |\n",
        "| `services`    | `[\"restaurant\", \"hotel\"]` (multi-domain) |\n",
        "| `turns`       | `12 dialogue turns` (user + system)      |\n",
        "\n",
        "---\n",
        "\n",
        " 💬 Example of the Interaction:\n",
        "\n",
        "1. 🧑 **User**: I need a place to dine in the center that's expensive\n",
        "   🤖 **Bot**: I have several options... do you prefer African, Asian, or British food?\n",
        "\n",
        "2. 🧑 **User**: Any food is fine... can I get the phone number?\n",
        "   🤖 **Bot**: There is a place named **Bedouin**... phone is **01223367660**...\n",
        "\n",
        "---\n",
        "\n",
        " 🧠 Key NLP Annotations:\n",
        "\n",
        "* **Intents**: `find_restaurant`, `book_hotel`\n",
        "* **Slot Values**:\n",
        "\n",
        "  * `\"restaurant-pricerange\"`: `\"expensive\"`\n",
        "  * `\"restaurant-area\"`: `\"centre\"`\n",
        "  * `\"restaurant-name\"`: `\"bedouin\"`\n",
        "  * `\"restaurant-phone\"`: `\"01223367660\"`\n",
        "\n",
        "---"
      ],
      "metadata": {
        "id": "snRluOL-kNai"
      }
    },
    {
      "cell_type": "markdown",
      "source": [
        "#### Domain Frequency"
      ],
      "metadata": {
        "id": "Wg60bONNvMgj"
      }
    },
    {
      "cell_type": "code",
      "source": [
        "services_counter = {}\n",
        "turn_per_dialogue = []\n",
        "domains_in_dialogue = []\n",
        "\n",
        "for dialogue in train_data.values():\n",
        "  services = dialogue.get(\"services\", [])\n",
        "  for service in services:\n",
        "    services_counter[service] = services_counter.get(service, 0) + 1\n",
        "  domains_in_dialogue.append(services)\n",
        "turn_per_dialogue.append(len(dialogue.get(\"turns\", [])))\n",
        "\n",
        "services_df = pd.DataFrame(list(services_counter.items()), columns=[\"Domain\", \"Count\"])"
      ],
      "metadata": {
        "id": "o8LP245YtgDE"
      },
      "execution_count": 9,
      "outputs": []
    },
    {
      "cell_type": "code",
      "source": [
        "plt.figure(figsize=(10, 5))\n",
        "sns.barplot(data=services_df.sort_values(by=\"Count\", ascending=False), x=\"Domain\", y=\"Count\")\n",
        "plt.title(\"Domain Distribution in MultiWOZ 2.2\")\n",
        "plt.xticks(rotation=45)\n",
        "plt.tight_layout()\n",
        "plt.show()"
      ],
      "metadata": {
        "colab": {
          "base_uri": "https://localhost:8080/",
          "height": 54
        },
        "id": "nvWA8BomvS3g",
        "outputId": "74ec00b5-bd5d-40fd-d227-b0490c5b4d1c"
      },
      "execution_count": 10,
      "outputs": [
        {
          "output_type": "display_data",
          "data": {
            "text/plain": [
              "<Figure size 1000x500 with 1 Axes>"
            ],
            "image/png": "[encoded data removed]"
          },
          "metadata": {}
        }
      ]
    },
    {
      "cell_type": "markdown",
      "source": [
        "#### AVG turns per Dialogue"
      ],
      "metadata": {
        "id": "2Tsy6EdtvcFs"
      }
    },
    {
      "cell_type": "code",
      "source": [
        "turns_df = pd.DataFrame(turn_per_dialogue, columns=[\"Turn Count\"])\n",
        "print(turns_df.describe())\n",
        "\n",
        "# Optional plot\n",
        "plt.figure(figsize=(8, 4))\n",
        "sns.histplot(turns_df[\"Turn Count\"], bins=20, kde=True)\n",
        "plt.title(\"Distribution of Turns per Dialogue\")\n",
        "plt.show()"
      ],
      "metadata": {
        "colab": {
          "base_uri": "https://localhost:8080/",
          "height": 207
        },
        "id": "OwgB101OjAeh",
        "outputId": "42d8c117-f1a0-4573-ae1f-467f8738ce4a"
      },
      "execution_count": 11,
      "outputs": [
        {
          "output_type": "stream",
          "name": "stdout",
          "text": [
            "       Turn Count\n",
            "count         1.0\n",
            "mean         10.0\n",
            "std           NaN\n",
            "min          10.0\n",
            "25%          10.0\n",
            "50%          10.0\n",
            "75%          10.0\n",
            "max          10.0\n"
          ]
        },
        {
          "output_type": "display_data",
          "data": {
            "text/plain": [
              "<Figure size 800x400 with 1 Axes>"
            ],
            "image/png": "[encoded data removed]"
          },
          "metadata": {}
        }
      ]
    },
    {
      "cell_type": "markdown",
      "source": [
        "#### Top Domain Combinations"
      ],
      "metadata": {
        "id": "HRi13QievkJt"
      }
    },
    {
      "cell_type": "code",
      "source": [
        "domains_df = pd.DataFrame(domains_in_dialogue).fillna(\"None\")\n",
        "top_combinations = domains_df.value_counts().head(10).reset_index(name=\"Count\")\n",
        "print(top_combinations)"
      ],
      "metadata": {
        "colab": {
          "base_uri": "https://localhost:8080/"
        },
        "id": "X3fT1hkpj1VT",
        "outputId": "9e03f376-2eb9-4ca4-83ab-c3c82f094704"
      },
      "execution_count": 12,
      "outputs": [
        {
          "output_type": "stream",
          "name": "stdout",
          "text": [
            "            0           1      2     3  Count\n",
            "0  restaurant        None   None  None   1270\n",
            "1       train       hotel   None  None    925\n",
            "2  attraction       train   None  None    823\n",
            "3  restaurant       train   None  None    811\n",
            "4       hotel        None   None  None    657\n",
            "5  restaurant       hotel   None  None    506\n",
            "6  attraction       hotel   None  None    481\n",
            "7  restaurant  attraction   None  None    426\n",
            "8        None        None   None  None    417\n",
            "9  restaurant        taxi  hotel  None    376\n"
          ]
        }
      ]
    },
    {
      "cell_type": "markdown",
      "source": [
        "#### Intent Frequency"
      ],
      "metadata": {
        "id": "sYYazvFmv2s7"
      }
    },
    {
      "cell_type": "code",
      "source": [
        "from collections import Counter\n",
        "\n",
        "intent_counter = Counter()\n",
        "\n",
        "for dialogue in train_data.values():\n",
        "    for turn in dialogue[\"turns\"]:\n",
        "        if turn[\"speaker\"] == \"USER\":\n",
        "            for frame in turn.get(\"frames\", []):\n",
        "                intent = frame.get(\"state\", {}).get(\"active_intent\", \"NONE\")\n",
        "                if intent != \"NONE\":\n",
        "                    intent_counter[intent] += 1\n",
        "\n",
        "# Display top 10\n",
        "for intent, count in intent_counter.most_common(10):\n",
        "    print(f\"{intent}: {count}\")"
      ],
      "metadata": {
        "colab": {
          "base_uri": "https://localhost:8080/"
        },
        "id": "6W_k0RDKj2LR",
        "outputId": "e3f32949-a3c5-46af-bb3a-5350030d5368"
      },
      "execution_count": 13,
      "outputs": [
        {
          "output_type": "stream",
          "name": "stdout",
          "text": [
            "find_restaurant: 10773\n",
            "find_hotel: 10540\n",
            "find_train: 9594\n",
            "find_attraction: 8133\n",
            "book_restaurant: 4409\n",
            "book_hotel: 4403\n",
            "find_taxi: 3695\n",
            "book_train: 2409\n",
            "find_hospital: 707\n",
            "find_police: 477\n"
          ]
        }
      ]
    },
    {
      "cell_type": "markdown",
      "source": [
        "#### Slot usage Frequency"
      ],
      "metadata": {
        "id": "IZDEZ1DMwImt"
      }
    },
    {
      "cell_type": "code",
      "source": [
        "from collections import Counter\n",
        "\n",
        "slot_counter = Counter()\n",
        "\n",
        "for dialogue in train_data.values():\n",
        "    for turn in dialogue[\"turns\"]:\n",
        "        for frame in turn.get(\"frames\", []):\n",
        "            slot_values = frame.get(\"state\", {}).get(\"slot_values\", {})\n",
        "            for slot, values in slot_values.items():\n",
        "                slot_counter[slot] += len(values)\n",
        "\n",
        "# Display top 15 most common slots\n",
        "for slot, count in slot_counter.most_common(15):\n",
        "    print(f\"{slot}: {count}\")"
      ],
      "metadata": {
        "colab": {
          "base_uri": "https://localhost:8080/"
        },
        "id": "NK4sz9VPwDe4",
        "outputId": "a30391b9-8369-44e1-a454-3c188de9588d"
      },
      "execution_count": 14,
      "outputs": [
        {
          "output_type": "stream",
          "name": "stdout",
          "text": [
            "restaurant-food: 17225\n",
            "train-destination: 16150\n",
            "train-departure: 15851\n",
            "train-day: 15710\n",
            "restaurant-area: 15567\n",
            "restaurant-pricerange: 15393\n",
            "hotel-name: 14599\n",
            "restaurant-name: 13632\n",
            "hotel-area: 12164\n",
            "hotel-type: 11459\n",
            "attraction-type: 11117\n",
            "hotel-pricerange: 11004\n",
            "attraction-area: 10589\n",
            "hotel-stars: 9921\n",
            "restaurant-booktime: 9410\n"
          ]
        }
      ]
    },
    {
      "cell_type": "markdown",
      "source": [
        "#### Requested Slot Frequency"
      ],
      "metadata": {
        "id": "0ERT-oV3x7Nx"
      }
    },
    {
      "cell_type": "code",
      "source": [
        "requested_counter = Counter()\n",
        "\n",
        "for dialogue in train_data.values():\n",
        "    for turn in dialogue[\"turns\"]:\n",
        "        if turn[\"speaker\"] == \"USER\":\n",
        "            for frame in turn.get(\"frames\", []):\n",
        "                requested_slots = frame.get(\"state\", {}).get(\"requested_slots\", [])\n",
        "                for slot in requested_slots:\n",
        "                    requested_counter[slot] += 1\n",
        "\n",
        "# Display top requested slots\n",
        "for slot, count in requested_counter.most_common(10):\n",
        "    print(f\"{slot}: {count}\")"
      ],
      "metadata": {
        "colab": {
          "base_uri": "https://localhost:8080/"
        },
        "id": "3Ev-FL8Hw6hU",
        "outputId": "21157101-542d-42c0-b2a5-ed1287bff669"
      },
      "execution_count": 15,
      "outputs": [
        {
          "output_type": "stream",
          "name": "stdout",
          "text": [
            "restaurant-address: 1163\n",
            "attraction-postcode: 1108\n",
            "attraction-address: 1107\n",
            "attraction-phone: 1059\n",
            "restaurant-phone: 1047\n",
            "attraction-entrancefee: 843\n",
            "train-price: 775\n",
            "train-ref: 705\n",
            "restaurant-postcode: 663\n",
            "train-duration: 597\n"
          ]
        }
      ]
    },
    {
      "cell_type": "code",
      "source": [
        "import matplotlib.pyplot as plt\n",
        "\n",
        "top_slots = dict(slot_counter.most_common(10))\n",
        "plt.figure(figsize=(10, 5))\n",
        "plt.bar(top_slots.keys(), top_slots.values())\n",
        "plt.xticks(rotation=45)\n",
        "plt.title(\"Top 10 Slot Frequencies\")\n",
        "plt.xlabel(\"Slot\")\n",
        "plt.ylabel(\"Frequency\")\n",
        "plt.tight_layout()\n",
        "plt.show()"
      ],
      "metadata": {
        "colab": {
          "base_uri": "https://localhost:8080/",
          "height": 507
        },
        "id": "_TQKfkqgyBQY",
        "outputId": "3f30d8eb-0260-4fe4-da96-a7158bc23d1d"
      },
      "execution_count": 16,
      "outputs": [
        {
          "output_type": "display_data",
          "data": {
            "text/plain": [
              "<Figure size 1000x500 with 1 Axes>"
            ],
            "image/png": "[encoded data removed]"
          },
          "metadata": {}
        }
      ]
    },
    {
      "cell_type": "markdown",
      "source": [
        "#### Most Common System Utterance"
      ],
      "metadata": {
        "id": "TkosGHPDM-Qr"
      }
    },
    {
      "cell_type": "code",
      "source": [
        "from collections import Counter\n",
        "\n",
        "system_utterances = Counter()\n",
        "\n",
        "for d in train_data.values():\n",
        "    for turn in d[\"turns\"]:\n",
        "        if turn[\"speaker\"] == \"SYSTEM\":\n",
        "            system_utterances[turn[\"utterance\"].strip().lower()] += 1\n",
        "\n",
        "# Top 10 most frequent system replies\n",
        "for utt, count in system_utterances.most_common(10):\n",
        "    print(f\"{count} — {utt}\")"
      ],
      "metadata": {
        "colab": {
          "base_uri": "https://localhost:8080/"
        },
        "id": "6uQ3bXLRyIOt",
        "outputId": "92df3314-e249-462f-deda-58c4a0386d7c"
      },
      "execution_count": 17,
      "outputs": [
        {
          "output_type": "stream",
          "name": "stdout",
          "text": [
            "114 — have a great day!\n",
            "84 — you're welcome. have a great day!\n",
            "80 — is there anything else i can help you with?\n",
            "76 — thank you, goodbye.\n",
            "72 — thank you for contacting us and have a nice day.\n",
            "69 — is there anything else i can help you with today?\n",
            "69 — you're welcome! have a great day!\n",
            "69 — have a nice day.\n",
            "69 — thank you for using our services.\n",
            "66 — where will you be departing from?\n"
          ]
        }
      ]
    },
    {
      "cell_type": "markdown",
      "source": [
        "#### AVG length of System Responses"
      ],
      "metadata": {
        "id": "w5q_deRWPAbb"
      }
    },
    {
      "cell_type": "code",
      "source": [
        "import nltk\n",
        "nltk.download('punkt')\n",
        "nltk.download('punkt_tab')\n",
        "from nltk.tokenize import word_tokenize"
      ],
      "metadata": {
        "colab": {
          "base_uri": "https://localhost:8080/"
        },
        "id": "TFHwLH56OtYR",
        "outputId": "987c6598-9022-4193-882d-750283f0ee21"
      },
      "execution_count": 21,
      "outputs": [
        {
          "output_type": "stream",
          "name": "stderr",
          "text": [
            "[nltk_data] Downloading package punkt to /root/nltk_data...\n",
            "[nltk_data]   Package punkt is already up-to-date!\n",
            "[nltk_data] Downloading package punkt_tab to /root/nltk_data...\n",
            "[nltk_data]   Unzipping tokenizers/punkt_tab.zip.\n"
          ]
        }
      ]
    },
    {
      "cell_type": "code",
      "source": [
        "lengths = []\n",
        "\n",
        "for dialogue in train_data.values():\n",
        "  for turn in dialogue[\"turns\"]:\n",
        "    if turn[\"speaker\"] == \"SYSTEM\":\n",
        "      tokens = word_tokenize(turn[\"utterance\"])\n",
        "      lengths.append(len(tokens))\n",
        "\n",
        "avg_length = sum(lengths) / len(lengths)\n",
        "print(f\"Average length of system responses: {avg_length:.2f} words\")"
      ],
      "metadata": {
        "colab": {
          "base_uri": "https://localhost:8080/"
        },
        "id": "qkIz-nL1PP2V",
        "outputId": "5ccbf17c-f37e-4880-dec2-56bd920a74b9"
      },
      "execution_count": 22,
      "outputs": [
        {
          "output_type": "stream",
          "name": "stdout",
          "text": [
            "Average length of system responses: 17.23 words\n"
          ]
        }
      ]
    },
    {
      "cell_type": "markdown",
      "source": [
        "#### System Slot Mentions"
      ],
      "metadata": {
        "id": "dCBW_4hRSFgg"
      }
    },
    {
      "cell_type": "code",
      "source": [
        "slot_mentions = Counter()\n",
        "\n",
        "for d in train_data.values():\n",
        "    for turn in d[\"turns\"]:\n",
        "        if turn[\"speaker\"] == \"SYSTEM\":\n",
        "            for frame in turn.get(\"frames\", []):\n",
        "                for slot in frame.get(\"slots\", []):\n",
        "                    slot_name = slot.get(\"slot\")\n",
        "                    if slot_name:\n",
        "                        slot_mentions[slot_name] += 1\n",
        "\n",
        "# Top mentioned slots by system\n",
        "for slot, count in slot_mentions.most_common(10):\n",
        "    print(f\"{slot}: {count}\")"
      ],
      "metadata": {
        "colab": {
          "base_uri": "https://localhost:8080/"
        },
        "id": "S_1v5lkRQNbz",
        "outputId": "58cb284d-42dc-4563-a5c3-c70b9d5dc2c0"
      },
      "execution_count": 23,
      "outputs": [
        {
          "output_type": "stream",
          "name": "stdout",
          "text": [
            "restaurant-name: 2200\n",
            "hotel-name: 2073\n",
            "attraction-name: 994\n",
            "taxi-departure: 305\n",
            "taxi-destination: 270\n",
            "train-leaveat: 105\n",
            "restaurant-food: 88\n",
            "train-arriveby: 59\n",
            "taxi-arriveby: 32\n",
            "restaurant-booktime: 17\n"
          ]
        }
      ]
    },
    {
      "cell_type": "markdown",
      "source": [
        "#### System Responses with Recommendations"
      ],
      "metadata": {
        "id": "u0io4KjTSNni"
      }
    },
    {
      "cell_type": "code",
      "source": [
        "recommendations = []\n",
        "\n",
        "for d in train_data.values():\n",
        "    for turn in d[\"turns\"]:\n",
        "        if turn[\"speaker\"] == \"SYSTEM\":\n",
        "            for frame in turn.get(\"frames\", []):\n",
        "                for slot in frame.get(\"slots\", []):\n",
        "                    if slot.get(\"slot\") == \"restaurant-name\":\n",
        "                        recommendations.append(slot.get(\"value\"))\n",
        "\n",
        "print(f\"Total restaurant names recommended: {len(set(recommendations))}\")\n",
        "print(\"Example recommendations:\", recommendations[:10])"
      ],
      "metadata": {
        "id": "FzRKj87pSMC0",
        "outputId": "001a0045-e717-432a-9f99-dabc9a9daabb",
        "colab": {
          "base_uri": "https://localhost:8080/"
        }
      },
      "execution_count": 24,
      "outputs": [
        {
          "output_type": "stream",
          "name": "stdout",
          "text": [
            "Total restaurant names recommended: 419\n",
            "Example recommendations: ['Bedouin', 'the lucky star', 'Little Seoul', 'cotto', 'Charlie Chan', 'Yu Garden', 'city', 'Chiquito Restaurant Bar', 'Royal Spice', 'midsummer house restaurant']\n"
          ]
        }
      ]
    }
  ]
}