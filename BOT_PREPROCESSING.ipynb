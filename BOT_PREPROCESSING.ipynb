{
  "nbformat": 4,
  "nbformat_minor": 0,
  "metadata": {
    "colab": {
      "provenance": [],
      "authorship_tag": "ABX9TyOYSif5+qdyl3Akqwd7G3c5",
      "include_colab_link": true
    },
    "kernelspec": {
      "name": "python3",
      "display_name": "Python 3"
    },
    "language_info": {
      "name": "python"
    }
  },
  "cells": [
    {
      "cell_type": "markdown",
      "metadata": {
        "id": "view-in-github",
        "colab_type": "text"
      },
      "source": [
        "<a href=\"https://colab.research.google.com/github/dhanu902/FoodieChat-Bot/blob/main/BOT_PREPROCESSING.ipynb\" target=\"_parent\"><img src=\"https://colab.research.google.com/assets/colab-badge.svg\" alt=\"Open In Colab\"/></a>"
      ]
    },
    {
      "cell_type": "code",
      "execution_count": 2,
      "metadata": {
        "id": "KJ5y7GbBRkS0"
      },
      "outputs": [],
      "source": [
        "import re\n",
        "import nltk\n",
        "from nltk.corpus import stopwords\n",
        "from nltk.stem import WordNetLemmatizer"
      ]
    },
    {
      "cell_type": "code",
      "source": [
        "nltk.download('stopwords')\n",
        "nltk.download('wordnet')\n",
        "nltk.download('punkt')\n",
        "nltk.download('punkt_tab')"
      ],
      "metadata": {
        "colab": {
          "base_uri": "https://localhost:8080/"
        },
        "id": "KKK0TB1C0Htz",
        "outputId": "81b0f470-c974-4222-cf21-5179dcdd97b0"
      },
      "execution_count": 3,
      "outputs": [
        {
          "output_type": "stream",
          "name": "stderr",
          "text": [
            "[nltk_data] Downloading package stopwords to /root/nltk_data...\n",
            "[nltk_data]   Unzipping corpora/stopwords.zip.\n",
            "[nltk_data] Downloading package wordnet to /root/nltk_data...\n",
            "[nltk_data] Downloading package punkt to /root/nltk_data...\n",
            "[nltk_data]   Unzipping tokenizers/punkt.zip.\n",
            "[nltk_data] Downloading package punkt_tab to /root/nltk_data...\n",
            "[nltk_data]   Unzipping tokenizers/punkt_tab.zip.\n"
          ]
        },
        {
          "output_type": "execute_result",
          "data": {
            "text/plain": [
              "True"
            ]
          },
          "metadata": {},
          "execution_count": 3
        }
      ]
    },
    {
      "cell_type": "code",
      "source": [
        "import json\n",
        "import os\n",
        "\n",
        "from google.colab import drive\n",
        "drive.mount('/content/drive')\n",
        "\n",
        "train_path = '/content/drive/MyDrive/ChatBot/MultiWOZ_2.2/train'\n",
        "\n",
        "train_data = {}\n",
        "\n",
        "for filename in sorted(os.listdir(train_path)):\n",
        "  if filename.endswith('.json'):\n",
        "    with open(os.path.join(train_path, filename), 'r') as f:\n",
        "      dialogues = json.load(f)\n",
        "      for dialogue in dialogues:\n",
        "        train_data[dialogue['dialogue_id']] = dialogue\n",
        "\n",
        "print(f\"Total dialogues loaded: {len(train_data)}\")"
      ],
      "metadata": {
        "colab": {
          "base_uri": "https://localhost:8080/"
        },
        "id": "9Fwk_-S9lK0x",
        "outputId": "5f1eddfe-fc88-4540-f048-e886ee216c82"
      },
      "execution_count": 4,
      "outputs": [
        {
          "output_type": "stream",
          "name": "stdout",
          "text": [
            "Mounted at /content/drive\n",
            "Total dialogues loaded: 8437\n"
          ]
        }
      ]
    },
    {
      "cell_type": "markdown",
      "source": [
        "## **General NLP Pre-Processing**"
      ],
      "metadata": {
        "id": "MfoWLypWzL-m"
      }
    },
    {
      "cell_type": "code",
      "source": [
        "def clean_text(text, remove_stopwords=True, do_lemmatize=True):\n",
        "  text = text.lower()\n",
        "\n",
        "  text = re.sub(r'[^a-zA-Z\\s]', '', text)\n",
        "\n",
        "  tokens = nltk.word_tokenize(text)\n",
        "\n",
        "  if remove_stopwords:\n",
        "    stop_words = set(stopwords.words('english'))\n",
        "    tokens = [word for word in tokens if word not in stop_words]\n",
        "\n",
        "  if do_lemmatize:\n",
        "    lemmatizer = WordNetLemmatizer()\n",
        "    tokens = [lemmatizer.lemmatize(word) for word in tokens]\n",
        "\n",
        "  return ' '.join(tokens)"
      ],
      "metadata": {
        "id": "3mZwgn9dz_XA"
      },
      "execution_count": 5,
      "outputs": []
    },
    {
      "cell_type": "code",
      "source": [
        "cleaned_utt = []\n",
        "\n",
        "for dialogue in train_data.values():\n",
        "  for turn in dialogue[\"turns\"]:\n",
        "    if turn[\"speaker\"] == \"USER\":\n",
        "      original = turn[\"utterance\"]\n",
        "      cleaned = clean_text(original)\n",
        "      cleaned_utt.append((original, cleaned))"
      ],
      "metadata": {
        "id": "slXvjVCil6fk"
      },
      "execution_count": 6,
      "outputs": []
    },
    {
      "cell_type": "markdown",
      "source": [
        "## **Intent Classification PreProcessing**"
      ],
      "metadata": {
        "id": "KBYPpytpStCX"
      }
    },
    {
      "cell_type": "code",
      "source": [
        "### ---- Capture Intent ----\n",
        "\n",
        "intent_data = []\n",
        "\n",
        "for dialogue in train_data.values():\n",
        "  for turn in dialogue[\"turns\"]:\n",
        "    if turn[\"speaker\"] == \"USER\":\n",
        "      for frame in turn.get(\"frames\", []):\n",
        "        intent = frame.get(\"state\", {}).get(\"active_intent\", \"NONE\")\n",
        "        if intent != \"NONE\":\n",
        "          original = turn[\"utterance\"]\n",
        "          cleaned = clean_text(original)\n",
        "          intent_data.append((original, cleaned, intent))"
      ],
      "metadata": {
        "id": "lYaNiy2yTNtp"
      },
      "execution_count": 11,
      "outputs": []
    },
    {
      "cell_type": "code",
      "source": [
        "### ---- Convert to DataFrame ----\n",
        "\n",
        "import pandas as pd\n",
        "DF_intens = pd.DataFrame(intent_data, columns=[\"original\", \"cleaned\", \"intent\"])"
      ],
      "metadata": {
        "id": "ML0pb6m9U7M8"
      },
      "execution_count": 12,
      "outputs": []
    },
    {
      "cell_type": "code",
      "source": [
        "### ---- Label Encode the Intent ----\n",
        "\n",
        "from sklearn.preprocessing import LabelEncoder\n",
        "\n",
        "label_encoder = LabelEncoder()\n",
        "DF_intens[\"intent_ID\"] = label_encoder.fit_transform(DF_intens[\"intent\"])"
      ],
      "metadata": {
        "id": "33VREwEOVMPD"
      },
      "execution_count": 13,
      "outputs": []
    },
    {
      "cell_type": "markdown",
      "source": [
        "## **NER PreProcessing/ Slot Filling**"
      ],
      "metadata": {
        "id": "fxcynodwS60z"
      }
    },
    {
      "cell_type": "code",
      "source": [
        "### ---- BIO Tagging ----\n",
        "\n",
        "from nltk.tokenize import word_tokenize\n",
        "\n",
        "def bio_tag_utt(utterance, slot_values):\n",
        "  tokens = word_tokenize(utterance.lower())\n",
        "  tags = [\"O\"] * len(tokens)\n",
        "\n",
        "  slot_map = {} # flat slot values\n",
        "  for slot, values in slot_values.items():\n",
        "    for value in values:\n",
        "      value_tokens = word_tokenize(value.lower())\n",
        "      for i in range(len(tokens) - len(value_tokens) + 1):\n",
        "        if tokens[i : i + len(value_tokens)] == value_tokens:\n",
        "          tags[i] = f\"B-{slot}\"\n",
        "          for j in range(1, len(value_tokens)):\n",
        "            tags[i+j] = f\"I-{slot}\"\n",
        "\n",
        "  return tokens, tags"
      ],
      "metadata": {
        "id": "yLsEixlvXZk9"
      },
      "execution_count": 14,
      "outputs": []
    },
    {
      "cell_type": "code",
      "source": [
        "### ---- Apply to Dataset ----\n",
        "\n",
        "bio_samples = []\n",
        "\n",
        "for dialogue in train_data.values():\n",
        "  for turn in dialogue[\"turns\"]:\n",
        "    if turn[\"speaker\"] == \"USER\":\n",
        "      for frame in turn.get(\"frames\", []):\n",
        "        slot_values = frame.get(\"state\", {}).get(\"slot_values\", {})\n",
        "        if slot_values:\n",
        "          utt = turn[\"utterance\"]\n",
        "          tokens, tags = bio_tag_utt(utt, slot_values)\n",
        "          bio_samples.append({\"tokens\": tokens, \"tags\": tags})"
      ],
      "metadata": {
        "id": "SUCLBrXYbE8q"
      },
      "execution_count": 15,
      "outputs": []
    },
    {
      "cell_type": "code",
      "source": [
        "with open(\"BIO_train_data.json\", \"w\") as f:\n",
        "  json.dump(bio_samples, f, indent=2)"
      ],
      "metadata": {
        "id": "biSYkDU9bt45"
      },
      "execution_count": 16,
      "outputs": []
    },
    {
      "cell_type": "markdown",
      "source": [
        "## **DST PreProcessing**"
      ],
      "metadata": {
        "id": "mxBNz23CTB2i"
      }
    }
  ]
}